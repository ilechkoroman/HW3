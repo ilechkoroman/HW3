{
 "cells": [
  {
   "cell_type": "code",
   "execution_count": 305,
   "id": "00eb5648",
   "metadata": {},
   "outputs": [],
   "source": [
    "import cv2\n",
    "import numpy as np\n",
    "import glob\n",
    "from scipy import signal\n",
    "import matplotlib.pyplot as plt"
   ]
  },
  {
   "cell_type": "code",
   "execution_count": 332,
   "id": "981b970d",
   "metadata": {},
   "outputs": [],
   "source": [
    "def get_images(folder):\n",
    "    img_array = list()\n",
    "    for filename in glob.glob(folder):\n",
    "        img = cv2.imread(filename)\n",
    "        img = cv2.cvtColor(img, cv2.COLOR_BGR2GRAY)\n",
    "        height, width = img.shape\n",
    "        size = (width,height)\n",
    "        img_array.append(img)\n",
    "    return img_array\n",
    "\n",
    "\n",
    "def video_from_img(folder, vide_name, images=None, fps=20.0):\n",
    "    if not images:\n",
    "        images = get_images(f\"{folder}/*.jpg\")\n",
    "    size = (images[0].shape[1], images[0].shape[0])\n",
    "    out = cv2.VideoWriter(f'{vide_name}.avi', cv2.VideoWriter_fourcc(*'XVID'), fps, size)\n",
    "\n",
    "    for img in images:\n",
    "        out.write(cv2.cvtColor(img, cv2.COLOR_GRAY2BGR))\n",
    "    out.release()"
   ]
  },
  {
   "cell_type": "code",
   "execution_count": 307,
   "id": "9ed0c462",
   "metadata": {},
   "outputs": [],
   "source": [
    "def get_new_coords(search_img_area, prev_coords_img, search_area, cost_func, minimum):\n",
    "    w, h = prev_coords_img.shape[1], prev_coords_img.shape[0]\n",
    "    \n",
    "    # if we want to find minimum init with inf and vice versa\n",
    "    if minimum:\n",
    "        chosen_diff = np.inf\n",
    "    else:\n",
    "        chosen_diff = 0\n",
    "    coord_x, coord_y = None, None\n",
    "    \n",
    "    # slide through the search area\n",
    "    for i in range(search_img_area.shape[0] - h):\n",
    "        for j in range(search_img_area.shape[1] - w):\n",
    "            \n",
    "            diff = cost_func(search_img_area[i: i + h, j: j + w], prev_coords_img)\n",
    "            \n",
    "            # find optimum point\n",
    "            if minimum:\n",
    "                if diff < chosen_diff:\n",
    "                    chosen_diff = diff\n",
    "                    coord_x, coord_y = j, i\n",
    "            else:\n",
    "                if diff > chosen_diff:\n",
    "                    chosen_diff = diff\n",
    "                    coord_x, coord_y = j, i\n",
    "    # go back to source image coords\n",
    "    return search_area[0] + coord_y, search_area[1] + coord_x, w, h\n",
    "            "
   ]
  },
  {
   "cell_type": "code",
   "execution_count": 324,
   "id": "e222269d",
   "metadata": {},
   "outputs": [],
   "source": [
    "def ssd(img1, img2):\n",
    "    return np.sum((img1 - img2)**2)\n",
    "\n",
    "def sad(img1, img2):\n",
    "    return np.sum(np.abs(img1 - img2))\n",
    "\n",
    "def ncc(img1, img2):\n",
    "    img1_norm = img1 - np.mean(img1)\n",
    "    img2_norm = img2 - np.mean(img2)\n",
    "    corr = np.sum(img1_norm*img2_norm)/np.sqrt(np.sum(img1_norm**2)*np.sum(img2_norm**2))\n",
    "    return corr"
   ]
  },
  {
   "cell_type": "code",
   "execution_count": 346,
   "id": "d9ed0165",
   "metadata": {},
   "outputs": [],
   "source": [
    "def tracking(images, init_coords, cost_func, search_pad, minimum=True, skip=0):\n",
    "    coords = init_coords\n",
    "    labeled_images = list()\n",
    "    prev_coords = None\n",
    "    for idx, img in enumerate(images):\n",
    "        if (idx + 1)%10==0:\n",
    "            print(f\"{idx + 1} from {len(images)}\")\n",
    "        img_copy = img.copy()\n",
    "        if skip and idx%skip != 0:\n",
    "            # in case we want to skipp some frames\n",
    "            cv2.rectangle(img_copy, \n",
    "                          (prev_coords[0], prev_coords[1]), \n",
    "                          (prev_coords[0] + prev_coords[2], prev_coords[1] + prev_coords[3]), \n",
    "                          (255, 255, 255), 2)\n",
    "            labeled_images.append(img_copy)\n",
    "            continue\n",
    "        \n",
    "        if prev_coords is None:\n",
    "            # if it is first iteration set ground truth as previous coordinates and move forward\n",
    "            prev_coords = coords\n",
    "            cv2.rectangle(img_copy, \n",
    "                          (prev_coords[0], prev_coords[1]), \n",
    "                          (prev_coords[0] + prev_coords[2], prev_coords[1] + prev_coords[3]), \n",
    "                          (255, 255, 255), 2)\n",
    "            labeled_images.append(img_copy)\n",
    "            continue\n",
    "        else:\n",
    "            # with aim to not search along all image search only in some area\n",
    "            search_area = (prev_coords[0] - search_pad, \n",
    "                       prev_coords[1] - search_pad, \n",
    "                       prev_coords[0] + prev_coords[2] + search_pad, \n",
    "                       prev_coords[1] + prev_coords[3] + search_pad)\n",
    "            search_img_area = img_copy[search_area[1]: search_area[1] + search_area[3],\n",
    "                                  search_area[0]: search_area[0]+ search_area[2]]\n",
    "            \n",
    "            prev_coords_img = img_copy[prev_coords[1]: prev_coords[1] + prev_coords[3],\n",
    "                                  prev_coords[0]: prev_coords[0]+ prev_coords[2]]\n",
    "            #find new coords with provided cost func\n",
    "            prev_coords = get_new_coords(search_img_area, prev_coords_img, search_area, cost_func, minimum)\n",
    "            \n",
    "            #draw rect\n",
    "            cv2.rectangle(img_copy, \n",
    "                          (prev_coords[0], prev_coords[1]), \n",
    "                          (prev_coords[0] + prev_coords[2], prev_coords[1] + prev_coords[3]), \n",
    "                          (255, 255, 255), 2)\n",
    "            labeled_images.append(img_copy)\n",
    "    return labeled_images\n",
    "\n"
   ]
  },
  {
   "cell_type": "code",
   "execution_count": 311,
   "id": "b663ae0d",
   "metadata": {},
   "outputs": [
    {
     "data": {
      "text/plain": [
       "<matplotlib.image.AxesImage at 0x1287057f0>"
      ]
     },
     "execution_count": 311,
     "metadata": {},
     "output_type": "execute_result"
    },
    {
     "data": {
      "image/png": "[encoded data removed]",
      "text/plain": [
       "<Figure size 432x288 with 1 Axes>"
      ]
     },
     "metadata": {
      "needs_background": "light"
     },
     "output_type": "display_data"
    }
   ],
   "source": [
    "images = get_images('tracker_data/Coupon/img/*.jpg')\n",
    "plt.imshow(images[0])"
   ]
  },
  {
   "cell_type": "code",
   "execution_count": 347,
   "id": "6e7c6307",
   "metadata": {
    "scrolled": false
   },
   "outputs": [
    {
     "name": "stdout",
     "output_type": "stream",
     "text": [
      "10 from 327\n",
      "20 from 327\n",
      "30 from 327\n",
      "40 from 327\n",
      "50 from 327\n",
      "60 from 327\n",
      "70 from 327\n",
      "80 from 327\n",
      "90 from 327\n",
      "100 from 327\n",
      "110 from 327\n",
      "120 from 327\n",
      "130 from 327\n",
      "140 from 327\n",
      "150 from 327\n",
      "160 from 327\n",
      "170 from 327\n",
      "180 from 327\n",
      "190 from 327\n",
      "200 from 327\n",
      "210 from 327\n",
      "220 from 327\n",
      "230 from 327\n",
      "240 from 327\n",
      "250 from 327\n",
      "260 from 327\n",
      "270 from 327\n",
      "280 from 327\n",
      "290 from 327\n",
      "300 from 327\n",
      "310 from 327\n",
      "320 from 327\n"
     ]
    }
   ],
   "source": [
    "res = tracking(images, [144,63,57,89], ssd, 50)"
   ]
  },
  {
   "cell_type": "code",
   "execution_count": 313,
   "id": "eb6988e6",
   "metadata": {},
   "outputs": [
    {
     "name": "stdout",
     "output_type": "stream",
     "text": [
      "10 from 327\n",
      "20 from 327\n",
      "30 from 327\n",
      "40 from 327\n",
      "50 from 327\n",
      "60 from 327\n",
      "70 from 327\n",
      "80 from 327\n",
      "90 from 327\n",
      "100 from 327\n",
      "110 from 327\n",
      "120 from 327\n",
      "130 from 327\n",
      "140 from 327\n",
      "150 from 327\n",
      "160 from 327\n",
      "170 from 327\n",
      "180 from 327\n",
      "190 from 327\n",
      "200 from 327\n",
      "210 from 327\n",
      "220 from 327\n",
      "230 from 327\n",
      "240 from 327\n",
      "250 from 327\n",
      "260 from 327\n",
      "270 from 327\n",
      "280 from 327\n",
      "290 from 327\n",
      "300 from 327\n",
      "310 from 327\n",
      "320 from 327\n"
     ]
    }
   ],
   "source": [
    "res_sad = tracking(images, [144,63,57,89], sad, 50)"
   ]
  },
  {
   "cell_type": "code",
   "execution_count": 330,
   "id": "03e128a0",
   "metadata": {},
   "outputs": [
    {
     "name": "stdout",
     "output_type": "stream",
     "text": [
      "10 from 327\n",
      "20 from 327\n",
      "30 from 327\n",
      "40 from 327\n",
      "50 from 327\n",
      "60 from 327\n",
      "70 from 327\n",
      "80 from 327\n",
      "90 from 327\n",
      "100 from 327\n",
      "110 from 327\n",
      "120 from 327\n",
      "130 from 327\n",
      "140 from 327\n",
      "150 from 327\n",
      "160 from 327\n",
      "170 from 327\n",
      "180 from 327\n",
      "190 from 327\n",
      "200 from 327\n",
      "210 from 327\n",
      "220 from 327\n",
      "230 from 327\n",
      "240 from 327\n",
      "250 from 327\n",
      "260 from 327\n",
      "270 from 327\n",
      "280 from 327\n",
      "290 from 327\n",
      "300 from 327\n",
      "310 from 327\n",
      "320 from 327\n"
     ]
    }
   ],
   "source": [
    "res_ncc = tracking(images, [144,63,57,89], ncc, 50, minimum=False)"
   ]
  },
  {
   "cell_type": "code",
   "execution_count": 348,
   "id": "3be08d51",
   "metadata": {},
   "outputs": [],
   "source": [
    "video_from_img('', 'results/res_ssd', images=res, fps=15.0)\n",
    "video_from_img('', 'results/res_sad', images=res_sad, fps=15.0)\n",
    "video_from_img('', 'results/res_ncc', images=res_ncc, fps=15.0)"
   ]
  },
  {
   "cell_type": "code",
   "execution_count": 335,
   "id": "93597ea1",
   "metadata": {},
   "outputs": [],
   "source": [
    "images2 = get_images('tracker_data/MountainBike/img/*.jpg')"
   ]
  },
  {
   "cell_type": "code",
   "execution_count": 336,
   "id": "38ef4397",
   "metadata": {},
   "outputs": [
    {
     "name": "stdout",
     "output_type": "stream",
     "text": [
      "10 from 228\n",
      "20 from 228\n",
      "30 from 228\n",
      "40 from 228\n",
      "50 from 228\n",
      "60 from 228\n",
      "70 from 228\n",
      "80 from 228\n",
      "90 from 228\n",
      "100 from 228\n",
      "110 from 228\n",
      "120 from 228\n",
      "130 from 228\n",
      "140 from 228\n",
      "150 from 228\n",
      "160 from 228\n",
      "170 from 228\n",
      "180 from 228\n",
      "190 from 228\n",
      "200 from 228\n",
      "210 from 228\n",
      "220 from 228\n"
     ]
    }
   ],
   "source": [
    "res2 = tracking(images2, [319,185,67,56], ssd, 50)"
   ]
  },
  {
   "cell_type": "code",
   "execution_count": 338,
   "id": "07c1aeec",
   "metadata": {},
   "outputs": [
    {
     "name": "stdout",
     "output_type": "stream",
     "text": [
      "10 from 228\n",
      "20 from 228\n",
      "30 from 228\n",
      "40 from 228\n",
      "50 from 228\n",
      "60 from 228\n",
      "70 from 228\n",
      "80 from 228\n",
      "90 from 228\n",
      "100 from 228\n",
      "110 from 228\n",
      "120 from 228\n",
      "130 from 228\n",
      "140 from 228\n",
      "150 from 228\n",
      "160 from 228\n",
      "170 from 228\n",
      "180 from 228\n",
      "190 from 228\n",
      "200 from 228\n",
      "210 from 228\n",
      "220 from 228\n"
     ]
    }
   ],
   "source": [
    "res2_sad = tracking(images2, [319,185,67,56], sad, 50)"
   ]
  },
  {
   "cell_type": "code",
   "execution_count": 339,
   "id": "96cc721e",
   "metadata": {},
   "outputs": [
    {
     "name": "stdout",
     "output_type": "stream",
     "text": [
      "10 from 228\n",
      "20 from 228\n",
      "30 from 228\n",
      "40 from 228\n",
      "50 from 228\n",
      "60 from 228\n",
      "70 from 228\n",
      "80 from 228\n",
      "90 from 228\n",
      "100 from 228\n",
      "110 from 228\n",
      "120 from 228\n",
      "130 from 228\n",
      "140 from 228\n",
      "150 from 228\n",
      "160 from 228\n",
      "170 from 228\n",
      "180 from 228\n",
      "190 from 228\n",
      "200 from 228\n",
      "210 from 228\n",
      "220 from 228\n"
     ]
    }
   ],
   "source": [
    "res2_ncc = tracking(images2, [319,185,67,56], ncc, 50, minimum=False)"
   ]
  },
  {
   "cell_type": "code",
   "execution_count": 340,
   "id": "88cc7407",
   "metadata": {},
   "outputs": [],
   "source": [
    "video_from_img('', 'results/res2_ssd', images=res2, fps=15.0)\n",
    "video_from_img('', 'results/res2_sad', images=res2_sad, fps=15.0)\n",
    "video_from_img('', 'results/res2_ncc', images=res2_ncc, fps=15.0)"
   ]
  },
  {
   "cell_type": "code",
   "execution_count": 341,
   "id": "25399704",
   "metadata": {},
   "outputs": [],
   "source": [
    "images3 = get_images('tracker_data/Twinnings/img/*.jpg')"
   ]
  },
  {
   "cell_type": "code",
   "execution_count": 342,
   "id": "ccfb85d6",
   "metadata": {},
   "outputs": [
    {
     "name": "stdout",
     "output_type": "stream",
     "text": [
      "10 from 472\n",
      "20 from 472\n",
      "30 from 472\n",
      "40 from 472\n",
      "50 from 472\n",
      "60 from 472\n",
      "70 from 472\n",
      "80 from 472\n",
      "90 from 472\n",
      "100 from 472\n",
      "110 from 472\n",
      "120 from 472\n",
      "130 from 472\n",
      "140 from 472\n",
      "150 from 472\n",
      "160 from 472\n",
      "170 from 472\n",
      "180 from 472\n",
      "190 from 472\n",
      "200 from 472\n",
      "210 from 472\n",
      "220 from 472\n",
      "230 from 472\n",
      "240 from 472\n",
      "250 from 472\n",
      "260 from 472\n",
      "270 from 472\n",
      "280 from 472\n",
      "290 from 472\n",
      "300 from 472\n",
      "310 from 472\n",
      "320 from 472\n",
      "330 from 472\n",
      "340 from 472\n",
      "350 from 472\n",
      "360 from 472\n",
      "370 from 472\n",
      "380 from 472\n",
      "390 from 472\n",
      "400 from 472\n",
      "410 from 472\n",
      "420 from 472\n",
      "430 from 472\n",
      "440 from 472\n",
      "450 from 472\n",
      "460 from 472\n",
      "470 from 472\n"
     ]
    }
   ],
   "source": [
    "res3 = tracking(images3, [125,162,74,55], ssd, 50)"
   ]
  },
  {
   "cell_type": "code",
   "execution_count": 343,
   "id": "371e4b51",
   "metadata": {},
   "outputs": [
    {
     "name": "stdout",
     "output_type": "stream",
     "text": [
      "10 from 472\n",
      "20 from 472\n",
      "30 from 472\n",
      "40 from 472\n",
      "50 from 472\n",
      "60 from 472\n",
      "70 from 472\n",
      "80 from 472\n",
      "90 from 472\n",
      "100 from 472\n",
      "110 from 472\n",
      "120 from 472\n",
      "130 from 472\n",
      "140 from 472\n",
      "150 from 472\n",
      "160 from 472\n",
      "170 from 472\n",
      "180 from 472\n",
      "190 from 472\n",
      "200 from 472\n",
      "210 from 472\n",
      "220 from 472\n",
      "230 from 472\n",
      "240 from 472\n",
      "250 from 472\n",
      "260 from 472\n",
      "270 from 472\n",
      "280 from 472\n",
      "290 from 472\n",
      "300 from 472\n",
      "310 from 472\n",
      "320 from 472\n",
      "330 from 472\n",
      "340 from 472\n",
      "350 from 472\n",
      "360 from 472\n",
      "370 from 472\n",
      "380 from 472\n",
      "390 from 472\n",
      "400 from 472\n",
      "410 from 472\n",
      "420 from 472\n",
      "430 from 472\n",
      "440 from 472\n",
      "450 from 472\n",
      "460 from 472\n",
      "470 from 472\n"
     ]
    }
   ],
   "source": [
    "res3_sad = tracking(images3, [125,162,74,55], sad, 50)"
   ]
  },
  {
   "cell_type": "code",
   "execution_count": 344,
   "id": "0e0303ca",
   "metadata": {},
   "outputs": [
    {
     "name": "stdout",
     "output_type": "stream",
     "text": [
      "10 from 472\n",
      "20 from 472\n",
      "30 from 472\n",
      "40 from 472\n",
      "50 from 472\n",
      "60 from 472\n",
      "70 from 472\n",
      "80 from 472\n",
      "90 from 472\n",
      "100 from 472\n",
      "110 from 472\n",
      "120 from 472\n",
      "130 from 472\n",
      "140 from 472\n",
      "150 from 472\n",
      "160 from 472\n",
      "170 from 472\n",
      "180 from 472\n",
      "190 from 472\n",
      "200 from 472\n",
      "210 from 472\n",
      "220 from 472\n",
      "230 from 472\n",
      "240 from 472\n",
      "250 from 472\n",
      "260 from 472\n",
      "270 from 472\n",
      "280 from 472\n",
      "290 from 472\n",
      "300 from 472\n",
      "310 from 472\n",
      "320 from 472\n",
      "330 from 472\n",
      "340 from 472\n",
      "350 from 472\n",
      "360 from 472\n",
      "370 from 472\n",
      "380 from 472\n",
      "390 from 472\n",
      "400 from 472\n",
      "410 from 472\n",
      "420 from 472\n",
      "430 from 472\n",
      "440 from 472\n",
      "450 from 472\n",
      "460 from 472\n",
      "470 from 472\n"
     ]
    }
   ],
   "source": [
    "res3_ncc = tracking(images3, [125,162,74,55], ncc, 50, minimum=False)"
   ]
  },
  {
   "cell_type": "code",
   "execution_count": 345,
   "id": "b6bfacb5",
   "metadata": {},
   "outputs": [],
   "source": [
    "video_from_img('', 'results/res3_ssd', images=res3, fps=15.0)\n",
    "video_from_img('', 'results/res3_sad', images=res3_sad, fps=15.0)\n",
    "video_from_img('', 'results/res3_ncc', images=res3_ncc, fps=15.0)"
   ]
  },
  {
   "cell_type": "markdown",
   "id": "d79a0e3a",
   "metadata": {},
   "source": [
    "It is quite interesting and not so obvious for me, why the tracker \"not moving\" at the images, as it looks like everything was done properly. Defenetely I am missing something, unfortunately right now I cant figure out what. From my thouths, atleast at the first video the template matching trackers should work, in comparing to the third video where we have the different scale changes and rotation. Obviously, that solution where we are imitating the situtation when we have both detector and tracker, and after some time update the object location will perform even better."
   ]
  },
  {
   "cell_type": "code",
   "execution_count": null,
   "id": "4a9b6af2",
   "metadata": {},
   "outputs": [],
   "source": []
  }
 ],
 "metadata": {
  "kernelspec": {
   "display_name": "Python 3 (ipykernel)",
   "language": "python",
   "name": "python3"
  },
  "language_info": {
   "codemirror_mode": {
    "name": "ipython",
    "version": 3
   },
   "file_extension": ".py",
   "mimetype": "text/x-python",
   "name": "python",
   "nbconvert_exporter": "python",
   "pygments_lexer": "ipython3",
   "version": "3.9.9"
  }
 },
 "nbformat": 4,
 "nbformat_minor": 5
}
